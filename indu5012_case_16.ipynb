{
 "cells": [
  {
   "cell_type": "markdown",
   "source": "# Case 16 - Tree-based methods",
   "metadata": {
    "cell_id": "4709974c46ef41508f73a95519d0c0a3",
    "tags": [],
    "deepnote_cell_type": "markdown",
    "deepnote_cell_height": 82
   }
  },
  {
   "cell_type": "markdown",
   "source": "## Business Problem",
   "metadata": {
    "cell_id": "fc78b00fd250442dbaa513e86b8641e4",
    "tags": [],
    "deepnote_cell_type": "markdown",
    "deepnote_cell_height": 70
   }
  },
  {
   "cell_type": "markdown",
   "source": "You are an analyst at a Colombian EPS. This company has identified a lot of problems arising from people developing heart deseases. So, the company has decided to build a model capable of classifying the risk that a patient has of developing these deseases.",
   "metadata": {
    "cell_id": "cb500979ed954f498ad9c083f6220982",
    "tags": [],
    "deepnote_cell_type": "markdown",
    "deepnote_cell_height": 74.78125
   }
  },
  {
   "cell_type": "markdown",
   "source": "### Packages Import",
   "metadata": {
    "cell_id": "21af07cc7a1c4b77a0eaefdd4ad4a97b",
    "tags": [],
    "deepnote_cell_type": "markdown",
    "deepnote_cell_height": 62
   }
  },
  {
   "cell_type": "code",
   "source": "import pandas as pd\nimport numpy as np\n\nimport seaborn as sns\nimport matplotlib.pyplot as plt\n\nfrom sklearn.model_selection import train_test_split\nfrom sklearn.tree import DecisionTreeClassifier\nfrom sklearn.model_selection import cross_val_score\nfrom sklearn.metrics import  RocCurveDisplay\n\nfrom sklearn.discriminant_analysis import LinearDiscriminantAnalysis\nfrom sklearn.discriminant_analysis import QuadraticDiscriminantAnalysis",
   "metadata": {
    "cell_id": "1cbdcf0d255e42ea8d6f09df67cb6294",
    "tags": [],
    "deepnote_to_be_reexecuted": false,
    "source_hash": "1f6aec94",
    "execution_start": 1648671659326,
    "execution_millis": 22,
    "deepnote_cell_type": "code",
    "deepnote_cell_height": 297
   },
   "outputs": [],
   "execution_count": 11
  },
  {
   "cell_type": "markdown",
   "source": "### Data Import\n\nThe information was downloaded from a dataset available [online](https://biolincc.nhlbi.nih.gov/studies/framcohort/).",
   "metadata": {
    "cell_id": "fefddc9718e1447992d233287f59156b",
    "tags": [],
    "deepnote_cell_type": "markdown",
    "deepnote_cell_height": 100.390625
   }
  },
  {
   "cell_type": "code",
   "source": "df_heart_disease = pd.read_csv(r'./data/framingham.csv')\ndf_heart_disease.head(5)",
   "metadata": {
    "cell_id": "1463d2f950404df292b089ff9c4c691e",
    "tags": [],
    "deepnote_to_be_reexecuted": false,
    "source_hash": "8a52a5c2",
    "execution_start": 1648670976822,
    "execution_millis": 131,
    "deepnote_cell_type": "code",
    "deepnote_cell_height": 428
   },
   "outputs": [
    {
     "output_type": "execute_result",
     "execution_count": 2,
     "data": {
      "application/vnd.deepnote.dataframe.v3+json": {
       "column_count": 16,
       "row_count": 5,
       "columns": [
        {
         "name": "male",
         "dtype": "int64",
         "stats": {
          "unique_count": 2,
          "nan_count": 0,
          "min": "0",
          "max": "1",
          "histogram": [
           {
            "bin_start": 0,
            "bin_end": 0.1,
            "count": 3
           },
           {
            "bin_start": 0.1,
            "bin_end": 0.2,
            "count": 0
           },
           {
            "bin_start": 0.2,
            "bin_end": 0.30000000000000004,
            "count": 0
           },
           {
            "bin_start": 0.30000000000000004,
            "bin_end": 0.4,
            "count": 0
           },
           {
            "bin_start": 0.4,
            "bin_end": 0.5,
            "count": 0
           },
           {
            "bin_start": 0.5,
            "bin_end": 0.6000000000000001,
            "count": 0
           },
           {
            "bin_start": 0.6000000000000001,
            "bin_end": 0.7000000000000001,
            "count": 0
           },
           {
            "bin_start": 0.7000000000000001,
            "bin_end": 0.8,
            "count": 0
           },
           {
            "bin_start": 0.8,
            "bin_end": 0.9,
            "count": 0
           },
           {
            "bin_start": 0.9,
            "bin_end": 1,
            "count": 2
           }
          ]
         }
        },
        {
         "name": "age",
         "dtype": "int64",
         "stats": {
          "unique_count": 4,
          "nan_count": 0,
          "min": "39",
          "max": "61",
          "histogram": [
           {
            "bin_start": 39,
            "bin_end": 41.2,
            "count": 1
           },
           {
            "bin_start": 41.2,
            "bin_end": 43.4,
            "count": 0
           },
           {
            "bin_start": 43.4,
            "bin_end": 45.6,
            "count": 0
           },
           {
            "bin_start": 45.6,
            "bin_end": 47.8,
            "count": 2
           },
           {
            "bin_start": 47.8,
            "bin_end": 50,
            "count": 1
           },
           {
            "bin_start": 50,
            "bin_end": 52.2,
            "count": 0
           },
           {
            "bin_start": 52.2,
            "bin_end": 54.400000000000006,
            "count": 0
           },
           {
            "bin_start": 54.400000000000006,
            "bin_end": 56.6,
            "count": 0
           },
           {
            "bin_start": 56.6,
            "bin_end": 58.8,
            "count": 0
           },
           {
            "bin_start": 58.8,
            "bin_end": 61,
            "count": 1
           }
          ]
         }
        },
        {
         "name": "education",
         "dtype": "float64",
         "stats": {
          "unique_count": 4,
          "nan_count": 0,
          "min": "1.0",
          "max": "4.0",
          "histogram": [
           {
            "bin_start": 1,
            "bin_end": 1.3,
            "count": 1
           },
           {
            "bin_start": 1.3,
            "bin_end": 1.6,
            "count": 0
           },
           {
            "bin_start": 1.6,
            "bin_end": 1.9,
            "count": 0
           },
           {
            "bin_start": 1.9,
            "bin_end": 2.2,
            "count": 1
           },
           {
            "bin_start": 2.2,
            "bin_end": 2.5,
            "count": 0
           },
           {
            "bin_start": 2.5,
            "bin_end": 2.8,
            "count": 0
           },
           {
            "bin_start": 2.8,
            "bin_end": 3.1,
            "count": 2
           },
           {
            "bin_start": 3.1,
            "bin_end": 3.4,
            "count": 0
           },
           {
            "bin_start": 3.4,
            "bin_end": 3.6999999999999997,
            "count": 0
           },
           {
            "bin_start": 3.6999999999999997,
            "bin_end": 4,
            "count": 1
           }
          ]
         }
        },
        {
         "name": "currentSmoker",
         "dtype": "int64",
         "stats": {
          "unique_count": 2,
          "nan_count": 0,
          "min": "0",
          "max": "1",
          "histogram": [
           {
            "bin_start": 0,
            "bin_end": 0.1,
            "count": 2
           },
           {
            "bin_start": 0.1,
            "bin_end": 0.2,
            "count": 0
           },
           {
            "bin_start": 0.2,
            "bin_end": 0.30000000000000004,
            "count": 0
           },
           {
            "bin_start": 0.30000000000000004,
            "bin_end": 0.4,
            "count": 0
           },
           {
            "bin_start": 0.4,
            "bin_end": 0.5,
            "count": 0
           },
           {
            "bin_start": 0.5,
            "bin_end": 0.6000000000000001,
            "count": 0
           },
           {
            "bin_start": 0.6000000000000001,
            "bin_end": 0.7000000000000001,
            "count": 0
           },
           {
            "bin_start": 0.7000000000000001,
            "bin_end": 0.8,
            "count": 0
           },
           {
            "bin_start": 0.8,
            "bin_end": 0.9,
            "count": 0
           },
           {
            "bin_start": 0.9,
            "bin_end": 1,
            "count": 3
           }
          ]
         }
        },
        {
         "name": "cigsPerDay",
         "dtype": "float64",
         "stats": {
          "unique_count": 4,
          "nan_count": 0,
          "min": "0.0",
          "max": "30.0",
          "histogram": [
           {
            "bin_start": 0,
            "bin_end": 3,
            "count": 2
           },
           {
            "bin_start": 3,
            "bin_end": 6,
            "count": 0
           },
           {
            "bin_start": 6,
            "bin_end": 9,
            "count": 0
           },
           {
            "bin_start": 9,
            "bin_end": 12,
            "count": 0
           },
           {
            "bin_start": 12,
            "bin_end": 15,
            "count": 0
           },
           {
            "bin_start": 15,
            "bin_end": 18,
            "count": 0
           },
           {
            "bin_start": 18,
            "bin_end": 21,
            "count": 1
           },
           {
            "bin_start": 21,
            "bin_end": 24,
            "count": 1
           },
           {
            "bin_start": 24,
            "bin_end": 27,
            "count": 0
           },
           {
            "bin_start": 27,
            "bin_end": 30,
            "count": 1
           }
          ]
         }
        },
        {
         "name": "BPMeds",
         "dtype": "float64",
         "stats": {
          "unique_count": 1,
          "nan_count": 0,
          "min": "0.0",
          "max": "0.0",
          "histogram": [
           {
            "bin_start": -0.5,
            "bin_end": -0.4,
            "count": 0
           },
           {
            "bin_start": -0.4,
            "bin_end": -0.3,
            "count": 0
           },
           {
            "bin_start": -0.3,
            "bin_end": -0.19999999999999996,
            "count": 0
           },
           {
            "bin_start": -0.19999999999999996,
            "bin_end": -0.09999999999999998,
            "count": 0
           },
           {
            "bin_start": -0.09999999999999998,
            "bin_end": 0,
            "count": 0
           },
           {
            "bin_start": 0,
            "bin_end": 0.10000000000000009,
            "count": 5
           },
           {
            "bin_start": 0.10000000000000009,
            "bin_end": 0.20000000000000007,
            "count": 0
           },
           {
            "bin_start": 0.20000000000000007,
            "bin_end": 0.30000000000000004,
            "count": 0
           },
           {
            "bin_start": 0.30000000000000004,
            "bin_end": 0.4,
            "count": 0
           },
           {
            "bin_start": 0.4,
            "bin_end": 0.5,
            "count": 0
           }
          ]
         }
        },
        {
         "name": "prevalentStroke",
         "dtype": "int64",
         "stats": {
          "unique_count": 1,
          "nan_count": 0,
          "min": "0",
          "max": "0",
          "histogram": [
           {
            "bin_start": -0.5,
            "bin_end": -0.4,
            "count": 0
           },
           {
            "bin_start": -0.4,
            "bin_end": -0.3,
            "count": 0
           },
           {
            "bin_start": -0.3,
            "bin_end": -0.19999999999999996,
            "count": 0
           },
           {
            "bin_start": -0.19999999999999996,
            "bin_end": -0.09999999999999998,
            "count": 0
           },
           {
            "bin_start": -0.09999999999999998,
            "bin_end": 0,
            "count": 0
           },
           {
            "bin_start": 0,
            "bin_end": 0.10000000000000009,
            "count": 5
           },
           {
            "bin_start": 0.10000000000000009,
            "bin_end": 0.20000000000000007,
            "count": 0
           },
           {
            "bin_start": 0.20000000000000007,
            "bin_end": 0.30000000000000004,
            "count": 0
           },
           {
            "bin_start": 0.30000000000000004,
            "bin_end": 0.4,
            "count": 0
           },
           {
            "bin_start": 0.4,
            "bin_end": 0.5,
            "count": 0
           }
          ]
         }
        },
        {
         "name": "prevalentHyp",
         "dtype": "int64",
         "stats": {
          "unique_count": 2,
          "nan_count": 0,
          "min": "0",
          "max": "1",
          "histogram": [
           {
            "bin_start": 0,
            "bin_end": 0.1,
            "count": 4
           },
           {
            "bin_start": 0.1,
            "bin_end": 0.2,
            "count": 0
           },
           {
            "bin_start": 0.2,
            "bin_end": 0.30000000000000004,
            "count": 0
           },
           {
            "bin_start": 0.30000000000000004,
            "bin_end": 0.4,
            "count": 0
           },
           {
            "bin_start": 0.4,
            "bin_end": 0.5,
            "count": 0
           },
           {
            "bin_start": 0.5,
            "bin_end": 0.6000000000000001,
            "count": 0
           },
           {
            "bin_start": 0.6000000000000001,
            "bin_end": 0.7000000000000001,
            "count": 0
           },
           {
            "bin_start": 0.7000000000000001,
            "bin_end": 0.8,
            "count": 0
           },
           {
            "bin_start": 0.8,
            "bin_end": 0.9,
            "count": 0
           },
           {
            "bin_start": 0.9,
            "bin_end": 1,
            "count": 1
           }
          ]
         }
        },
        {
         "name": "diabetes",
         "dtype": "int64",
         "stats": {
          "unique_count": 1,
          "nan_count": 0,
          "min": "0",
          "max": "0",
          "histogram": [
           {
            "bin_start": -0.5,
            "bin_end": -0.4,
            "count": 0
           },
           {
            "bin_start": -0.4,
            "bin_end": -0.3,
            "count": 0
           },
           {
            "bin_start": -0.3,
            "bin_end": -0.19999999999999996,
            "count": 0
           },
           {
            "bin_start": -0.19999999999999996,
            "bin_end": -0.09999999999999998,
            "count": 0
           },
           {
            "bin_start": -0.09999999999999998,
            "bin_end": 0,
            "count": 0
           },
           {
            "bin_start": 0,
            "bin_end": 0.10000000000000009,
            "count": 5
           },
           {
            "bin_start": 0.10000000000000009,
            "bin_end": 0.20000000000000007,
            "count": 0
           },
           {
            "bin_start": 0.20000000000000007,
            "bin_end": 0.30000000000000004,
            "count": 0
           },
           {
            "bin_start": 0.30000000000000004,
            "bin_end": 0.4,
            "count": 0
           },
           {
            "bin_start": 0.4,
            "bin_end": 0.5,
            "count": 0
           }
          ]
         }
        },
        {
         "name": "totChol",
         "dtype": "float64",
         "stats": {
          "unique_count": 5,
          "nan_count": 0,
          "min": "195.0",
          "max": "285.0",
          "histogram": [
           {
            "bin_start": 195,
            "bin_end": 204,
            "count": 1
           },
           {
            "bin_start": 204,
            "bin_end": 213,
            "count": 0
           },
           {
            "bin_start": 213,
            "bin_end": 222,
            "count": 0
           },
           {
            "bin_start": 222,
            "bin_end": 231,
            "count": 1
           },
           {
            "bin_start": 231,
            "bin_end": 240,
            "count": 0
           },
           {
            "bin_start": 240,
            "bin_end": 249,
            "count": 1
           },
           {
            "bin_start": 249,
            "bin_end": 258,
            "count": 1
           },
           {
            "bin_start": 258,
            "bin_end": 267,
            "count": 0
           },
           {
            "bin_start": 267,
            "bin_end": 276,
            "count": 0
           },
           {
            "bin_start": 276,
            "bin_end": 285,
            "count": 1
           }
          ]
         }
        },
        {
         "name": "sysBP",
         "dtype": "float64",
         "stats": {
          "unique_count": 5,
          "nan_count": 0,
          "min": "106.0",
          "max": "150.0",
          "histogram": [
           {
            "bin_start": 106,
            "bin_end": 110.4,
            "count": 1
           },
           {
            "bin_start": 110.4,
            "bin_end": 114.8,
            "count": 0
           },
           {
            "bin_start": 114.8,
            "bin_end": 119.2,
            "count": 0
           },
           {
            "bin_start": 119.2,
            "bin_end": 123.6,
            "count": 1
           },
           {
            "bin_start": 123.6,
            "bin_end": 128,
            "count": 1
           },
           {
            "bin_start": 128,
            "bin_end": 132.4,
            "count": 1
           },
           {
            "bin_start": 132.4,
            "bin_end": 136.8,
            "count": 0
           },
           {
            "bin_start": 136.8,
            "bin_end": 141.2,
            "count": 0
           },
           {
            "bin_start": 141.2,
            "bin_end": 145.6,
            "count": 0
           },
           {
            "bin_start": 145.6,
            "bin_end": 150,
            "count": 1
           }
          ]
         }
        },
        {
         "name": "diaBP",
         "dtype": "float64",
         "stats": {
          "unique_count": 5,
          "nan_count": 0,
          "min": "70.0",
          "max": "95.0",
          "histogram": [
           {
            "bin_start": 70,
            "bin_end": 72.5,
            "count": 1
           },
           {
            "bin_start": 72.5,
            "bin_end": 75,
            "count": 0
           },
           {
            "bin_start": 75,
            "bin_end": 77.5,
            "count": 0
           },
           {
            "bin_start": 77.5,
            "bin_end": 80,
            "count": 0
           },
           {
            "bin_start": 80,
            "bin_end": 82.5,
            "count": 2
           },
           {
            "bin_start": 82.5,
            "bin_end": 85,
            "count": 1
           },
           {
            "bin_start": 85,
            "bin_end": 87.5,
            "count": 0
           },
           {
            "bin_start": 87.5,
            "bin_end": 90,
            "count": 0
           },
           {
            "bin_start": 90,
            "bin_end": 92.5,
            "count": 0
           },
           {
            "bin_start": 92.5,
            "bin_end": 95,
            "count": 1
           }
          ]
         }
        },
        {
         "name": "BMI",
         "dtype": "float64",
         "stats": {
          "unique_count": 5,
          "nan_count": 0,
          "min": "23.1",
          "max": "28.73",
          "histogram": [
           {
            "bin_start": 23.1,
            "bin_end": 23.663,
            "count": 1
           },
           {
            "bin_start": 23.663,
            "bin_end": 24.226000000000003,
            "count": 0
           },
           {
            "bin_start": 24.226000000000003,
            "bin_end": 24.789,
            "count": 0
           },
           {
            "bin_start": 24.789,
            "bin_end": 25.352,
            "count": 1
           },
           {
            "bin_start": 25.352,
            "bin_end": 25.915,
            "count": 0
           },
           {
            "bin_start": 25.915,
            "bin_end": 26.478,
            "count": 0
           },
           {
            "bin_start": 26.478,
            "bin_end": 27.041,
            "count": 1
           },
           {
            "bin_start": 27.041,
            "bin_end": 27.604,
            "count": 0
           },
           {
            "bin_start": 27.604,
            "bin_end": 28.167,
            "count": 0
           },
           {
            "bin_start": 28.167,
            "bin_end": 28.73,
            "count": 2
           }
          ]
         }
        },
        {
         "name": "heartRate",
         "dtype": "float64",
         "stats": {
          "unique_count": 5,
          "nan_count": 0,
          "min": "65.0",
          "max": "95.0",
          "histogram": [
           {
            "bin_start": 65,
            "bin_end": 68,
            "count": 1
           },
           {
            "bin_start": 68,
            "bin_end": 71,
            "count": 0
           },
           {
            "bin_start": 71,
            "bin_end": 74,
            "count": 0
           },
           {
            "bin_start": 74,
            "bin_end": 77,
            "count": 1
           },
           {
            "bin_start": 77,
            "bin_end": 80,
            "count": 0
           },
           {
            "bin_start": 80,
            "bin_end": 83,
            "count": 1
           },
           {
            "bin_start": 83,
            "bin_end": 86,
            "count": 1
           },
           {
            "bin_start": 86,
            "bin_end": 89,
            "count": 0
           },
           {
            "bin_start": 89,
            "bin_end": 92,
            "count": 0
           },
           {
            "bin_start": 92,
            "bin_end": 95,
            "count": 1
           }
          ]
         }
        },
        {
         "name": "glucose",
         "dtype": "float64",
         "stats": {
          "unique_count": 5,
          "nan_count": 0,
          "min": "70.0",
          "max": "103.0",
          "histogram": [
           {
            "bin_start": 70,
            "bin_end": 73.3,
            "count": 1
           },
           {
            "bin_start": 73.3,
            "bin_end": 76.6,
            "count": 1
           },
           {
            "bin_start": 76.6,
            "bin_end": 79.9,
            "count": 1
           },
           {
            "bin_start": 79.9,
            "bin_end": 83.2,
            "count": 0
           },
           {
            "bin_start": 83.2,
            "bin_end": 86.5,
            "count": 1
           },
           {
            "bin_start": 86.5,
            "bin_end": 89.8,
            "count": 0
           },
           {
            "bin_start": 89.8,
            "bin_end": 93.1,
            "count": 0
           },
           {
            "bin_start": 93.1,
            "bin_end": 96.4,
            "count": 0
           },
           {
            "bin_start": 96.4,
            "bin_end": 99.7,
            "count": 0
           },
           {
            "bin_start": 99.7,
            "bin_end": 103,
            "count": 1
           }
          ]
         }
        },
        {
         "name": "TenYearCHD",
         "dtype": "int64",
         "stats": {
          "unique_count": 2,
          "nan_count": 0,
          "min": "0",
          "max": "1",
          "histogram": [
           {
            "bin_start": 0,
            "bin_end": 0.1,
            "count": 4
           },
           {
            "bin_start": 0.1,
            "bin_end": 0.2,
            "count": 0
           },
           {
            "bin_start": 0.2,
            "bin_end": 0.30000000000000004,
            "count": 0
           },
           {
            "bin_start": 0.30000000000000004,
            "bin_end": 0.4,
            "count": 0
           },
           {
            "bin_start": 0.4,
            "bin_end": 0.5,
            "count": 0
           },
           {
            "bin_start": 0.5,
            "bin_end": 0.6000000000000001,
            "count": 0
           },
           {
            "bin_start": 0.6000000000000001,
            "bin_end": 0.7000000000000001,
            "count": 0
           },
           {
            "bin_start": 0.7000000000000001,
            "bin_end": 0.8,
            "count": 0
           },
           {
            "bin_start": 0.8,
            "bin_end": 0.9,
            "count": 0
           },
           {
            "bin_start": 0.9,
            "bin_end": 1,
            "count": 1
           }
          ]
         }
        },
        {
         "name": "_deepnote_index_column",
         "dtype": "int64"
        }
       ],
       "rows": [
        {
         "male": 1,
         "age": 39,
         "education": 4,
         "currentSmoker": 0,
         "cigsPerDay": 0,
         "BPMeds": 0,
         "prevalentStroke": 0,
         "prevalentHyp": 0,
         "diabetes": 0,
         "totChol": 195,
         "sysBP": 106,
         "diaBP": 70,
         "BMI": 26.97,
         "heartRate": 80,
         "glucose": 77,
         "TenYearCHD": 0,
         "_deepnote_index_column": 0
        },
        {
         "male": 0,
         "age": 46,
         "education": 2,
         "currentSmoker": 0,
         "cigsPerDay": 0,
         "BPMeds": 0,
         "prevalentStroke": 0,
         "prevalentHyp": 0,
         "diabetes": 0,
         "totChol": 250,
         "sysBP": 121,
         "diaBP": 81,
         "BMI": 28.73,
         "heartRate": 95,
         "glucose": 76,
         "TenYearCHD": 0,
         "_deepnote_index_column": 1
        },
        {
         "male": 1,
         "age": 48,
         "education": 1,
         "currentSmoker": 1,
         "cigsPerDay": 20,
         "BPMeds": 0,
         "prevalentStroke": 0,
         "prevalentHyp": 0,
         "diabetes": 0,
         "totChol": 245,
         "sysBP": 127.5,
         "diaBP": 80,
         "BMI": 25.34,
         "heartRate": 75,
         "glucose": 70,
         "TenYearCHD": 0,
         "_deepnote_index_column": 2
        },
        {
         "male": 0,
         "age": 61,
         "education": 3,
         "currentSmoker": 1,
         "cigsPerDay": 30,
         "BPMeds": 0,
         "prevalentStroke": 0,
         "prevalentHyp": 1,
         "diabetes": 0,
         "totChol": 225,
         "sysBP": 150,
         "diaBP": 95,
         "BMI": 28.58,
         "heartRate": 65,
         "glucose": 103,
         "TenYearCHD": 1,
         "_deepnote_index_column": 3
        },
        {
         "male": 0,
         "age": 46,
         "education": 3,
         "currentSmoker": 1,
         "cigsPerDay": 23,
         "BPMeds": 0,
         "prevalentStroke": 0,
         "prevalentHyp": 0,
         "diabetes": 0,
         "totChol": 285,
         "sysBP": 130,
         "diaBP": 84,
         "BMI": 23.1,
         "heartRate": 85,
         "glucose": 85,
         "TenYearCHD": 0,
         "_deepnote_index_column": 4
        }
       ]
      },
      "text/plain": "   male  age  education  currentSmoker  cigsPerDay  BPMeds  prevalentStroke  \\\n0     1   39        4.0              0         0.0     0.0                0   \n1     0   46        2.0              0         0.0     0.0                0   \n2     1   48        1.0              1        20.0     0.0                0   \n3     0   61        3.0              1        30.0     0.0                0   \n4     0   46        3.0              1        23.0     0.0                0   \n\n   prevalentHyp  diabetes  totChol  sysBP  diaBP    BMI  heartRate  glucose  \\\n0             0         0    195.0  106.0   70.0  26.97       80.0     77.0   \n1             0         0    250.0  121.0   81.0  28.73       95.0     76.0   \n2             0         0    245.0  127.5   80.0  25.34       75.0     70.0   \n3             1         0    225.0  150.0   95.0  28.58       65.0    103.0   \n4             0         0    285.0  130.0   84.0  23.10       85.0     85.0   \n\n   TenYearCHD  \n0           0  \n1           0  \n2           0  \n3           1  \n4           0  ",
      "text/html": "<div>\n<style scoped>\n    .dataframe tbody tr th:only-of-type {\n        vertical-align: middle;\n    }\n\n    .dataframe tbody tr th {\n        vertical-align: top;\n    }\n\n    .dataframe thead th {\n        text-align: right;\n    }\n</style>\n<table border=\"1\" class=\"dataframe\">\n  <thead>\n    <tr style=\"text-align: right;\">\n      <th></th>\n      <th>male</th>\n      <th>age</th>\n      <th>education</th>\n      <th>currentSmoker</th>\n      <th>cigsPerDay</th>\n      <th>BPMeds</th>\n      <th>prevalentStroke</th>\n      <th>prevalentHyp</th>\n      <th>diabetes</th>\n      <th>totChol</th>\n      <th>sysBP</th>\n      <th>diaBP</th>\n      <th>BMI</th>\n      <th>heartRate</th>\n      <th>glucose</th>\n      <th>TenYearCHD</th>\n    </tr>\n  </thead>\n  <tbody>\n    <tr>\n      <th>0</th>\n      <td>1</td>\n      <td>39</td>\n      <td>4.0</td>\n      <td>0</td>\n      <td>0.0</td>\n      <td>0.0</td>\n      <td>0</td>\n      <td>0</td>\n      <td>0</td>\n      <td>195.0</td>\n      <td>106.0</td>\n      <td>70.0</td>\n      <td>26.97</td>\n      <td>80.0</td>\n      <td>77.0</td>\n      <td>0</td>\n    </tr>\n    <tr>\n      <th>1</th>\n      <td>0</td>\n      <td>46</td>\n      <td>2.0</td>\n      <td>0</td>\n      <td>0.0</td>\n      <td>0.0</td>\n      <td>0</td>\n      <td>0</td>\n      <td>0</td>\n      <td>250.0</td>\n      <td>121.0</td>\n      <td>81.0</td>\n      <td>28.73</td>\n      <td>95.0</td>\n      <td>76.0</td>\n      <td>0</td>\n    </tr>\n    <tr>\n      <th>2</th>\n      <td>1</td>\n      <td>48</td>\n      <td>1.0</td>\n      <td>1</td>\n      <td>20.0</td>\n      <td>0.0</td>\n      <td>0</td>\n      <td>0</td>\n      <td>0</td>\n      <td>245.0</td>\n      <td>127.5</td>\n      <td>80.0</td>\n      <td>25.34</td>\n      <td>75.0</td>\n      <td>70.0</td>\n      <td>0</td>\n    </tr>\n    <tr>\n      <th>3</th>\n      <td>0</td>\n      <td>61</td>\n      <td>3.0</td>\n      <td>1</td>\n      <td>30.0</td>\n      <td>0.0</td>\n      <td>0</td>\n      <td>1</td>\n      <td>0</td>\n      <td>225.0</td>\n      <td>150.0</td>\n      <td>95.0</td>\n      <td>28.58</td>\n      <td>65.0</td>\n      <td>103.0</td>\n      <td>1</td>\n    </tr>\n    <tr>\n      <th>4</th>\n      <td>0</td>\n      <td>46</td>\n      <td>3.0</td>\n      <td>1</td>\n      <td>23.0</td>\n      <td>0.0</td>\n      <td>0</td>\n      <td>0</td>\n      <td>0</td>\n      <td>285.0</td>\n      <td>130.0</td>\n      <td>84.0</td>\n      <td>23.10</td>\n      <td>85.0</td>\n      <td>85.0</td>\n      <td>0</td>\n    </tr>\n  </tbody>\n</table>\n</div>"
     },
     "metadata": {}
    }
   ],
   "execution_count": 2
  },
  {
   "cell_type": "markdown",
   "source": "### EDA and Data Cleaning",
   "metadata": {
    "cell_id": "7b5741d2e202456f8f8385af92277608",
    "tags": [],
    "deepnote_cell_type": "markdown",
    "deepnote_cell_height": 62
   }
  },
  {
   "cell_type": "code",
   "source": "print(df_heart_disease.isnull().sum())",
   "metadata": {
    "cell_id": "d6774f0bd9d94437a866e996a254d0cc",
    "tags": [],
    "deepnote_to_be_reexecuted": false,
    "source_hash": "d170bead",
    "execution_start": 1648670976955,
    "execution_millis": 12,
    "deepnote_cell_type": "code",
    "deepnote_cell_height": 435.1875
   },
   "outputs": [
    {
     "name": "stdout",
     "text": "male                 0\nage                  0\neducation          105\ncurrentSmoker        0\ncigsPerDay          29\nBPMeds              53\nprevalentStroke      0\nprevalentHyp         0\ndiabetes             0\ntotChol             50\nsysBP                0\ndiaBP                0\nBMI                 19\nheartRate            1\nglucose            388\nTenYearCHD           0\ndtype: int64\n",
     "output_type": "stream"
    }
   ],
   "execution_count": 3
  },
  {
   "cell_type": "code",
   "source": "#Droping education column\ndf_heart_disease.drop(columns='education',inplace=True)\n\n#Droping the observations that have at least one missing value\ndf_heart_disease.dropna(axis=0,inplace=True)",
   "metadata": {
    "cell_id": "4245e1667b774f0daf144900dbb74d06",
    "tags": [],
    "deepnote_to_be_reexecuted": false,
    "source_hash": "2bb04b6c",
    "execution_start": 1648670976970,
    "execution_millis": 9,
    "deepnote_cell_type": "code",
    "deepnote_cell_height": 153
   },
   "outputs": [],
   "execution_count": 4
  },
  {
   "cell_type": "code",
   "source": "for column in df_heart_disease.columns:\n    sns.histplot(x= column,data = df_heart_disease)\n    plt.show()",
   "metadata": {
    "cell_id": "e27a40bdf15e4da0a83c1888a9493101",
    "tags": [],
    "deepnote_to_be_reexecuted": false,
    "source_hash": "ad9b896d",
    "execution_start": 1648670976993,
    "execution_millis": 8497,
    "deepnote_cell_type": "code",
    "deepnote_cell_height": 4536,
    "deepnote_output_heights": [
     264,
     264,
     267,
     264,
     264,
     264,
     264,
     264,
     264,
     267,
     264,
     264,
     264,
     267,
     264
    ]
   },
   "outputs": [
    {
     "data": {
      "text/plain": "<Figure size 432x288 with 1 Axes>",
      "image/png": "[encoded data removed]"
     },
     "metadata": {
      "needs_background": "light",
      "image/png": {
       "width": 395,
       "height": 262
      }
     },
     "output_type": "display_data"
    },
    {
     "data": {
      "text/plain": "<Figure size 432x288 with 1 Axes>",
      "image/png": "[encoded data removed]"
     },
     "metadata": {
      "needs_background": "light",
      "image/png": {
       "width": 389,
       "height": 262
      }
     },
     "output_type": "display_data"
    },
    {
     "data": {
      "text/plain": "<Figure size 432x288 with 1 Axes>",
      "image/png": "[encoded data removed]"
     },
     "metadata": {
      "needs_background": "light",
      "image/png": {
       "width": 395,
       "height": 265
      }
     },
     "output_type": "display_data"
    },
    {
     "data": {
      "text/plain": "<Figure size 432x288 with 1 Axes>",
      "image/png": "[encoded data removed]"
     },
     "metadata": {
      "needs_background": "light",
      "image/png": {
       "width": 395,
       "height": 262
      }
     },
     "output_type": "display_data"
    },
    {
     "data": {
      "text/plain": "<Figure size 432x288 with 1 Axes>",
      "image/png": "[encoded data removed]"
     },
     "metadata": {
      "needs_background": "light",
      "image/png": {
       "width": 395,
       "height": 262
      }
     },
     "output_type": "display_data"
    },
    {
     "data": {
      "text/plain": "<Figure size 432x288 with 1 Axes>",
      "image/png": "[encoded data removed]"
     },
     "metadata": {
      "needs_background": "light",
      "image/png": {
       "width": 395,
       "height": 262
      }
     },
     "output_type": "display_data"
    },
    {
     "data": {
      "text/plain": "<Figure size 432x288 with 1 Axes>",
      "image/png": "[encoded data removed]"
     },
     "metadata": {
      "needs_background": "light",
      "image/png": {
       "width": 395,
       "height": 262
      }
     },
     "output_type": "display_data"
    },
    {
     "data": {
      "text/plain": "<Figure size 432x288 with 1 Axes>",
      "image/png": "[encoded data removed]"
     },
     "metadata": {
      "needs_background": "light",
      "image/png": {
       "width": 395,
       "height": 262
      }
     },
     "output_type": "display_data"
    },
    {
     "data": {
      "text/plain": "<Figure size 432x288 with 1 Axes>",
      "image/png": "[encoded data removed]"
     },
     "metadata": {
      "needs_background": "light",
      "image/png": {
       "width": 389,
       "height": 262
      }
     },
     "output_type": "display_data"
    },
    {
     "data": {
      "text/plain": "<Figure size 432x288 with 1 Axes>",
      "image/png": "[encoded data removed]"
     },
     "metadata": {
      "needs_background": "light",
      "image/png": {
       "width": 390,
       "height": 265
      }
     },
     "output_type": "display_data"
    },
    {
     "data": {
      "text/plain": "<Figure size 432x288 with 1 Axes>",
      "image/png": "[encoded data removed]"
     },
     "metadata": {
      "needs_background": "light",
      "image/png": {
       "width": 389,
       "height": 262
      }
     },
     "output_type": "display_data"
    },
    {
     "data": {
      "text/plain": "<Figure size 432x288 with 1 Axes>",
      "image/png": "[encoded data removed]"
     },
     "metadata": {
      "needs_background": "light",
      "image/png": {
       "width": 389,
       "height": 262
      }
     },
     "output_type": "display_data"
    },
    {
     "data": {
      "text/plain": "<Figure size 432x288 with 1 Axes>",
      "image/png": "[encoded data removed]"
     },
     "metadata": {
      "needs_background": "light",
      "image/png": {
       "width": 389,
       "height": 262
      }
     },
     "output_type": "display_data"
    },
    {
     "data": {
      "text/plain": "<Figure size 432x288 with 1 Axes>",
      "image/png": "[encoded data removed]"
     },
     "metadata": {
      "needs_background": "light",
      "image/png": {
       "width": 389,
       "height": 265
      }
     },
     "output_type": "display_data"
    },
    {
     "data": {
      "text/plain": "<Figure size 432x288 with 1 Axes>",
      "image/png": "[encoded data removed]"
     },
     "metadata": {
      "needs_background": "light",
      "image/png": {
       "width": 395,
       "height": 262
      }
     },
     "output_type": "display_data"
    }
   ],
   "execution_count": 5
  },
  {
   "cell_type": "markdown",
   "source": "### Train - Test Split",
   "metadata": {
    "cell_id": "46032cb9ae65443e80b69b8272197cc6",
    "tags": [],
    "deepnote_cell_type": "markdown",
    "deepnote_cell_height": 62
   }
  },
  {
   "cell_type": "code",
   "source": "X_train, X_test, Y_train, Y_test = train_test_split(df_heart_disease.drop(columns='TenYearCHD'), df_heart_disease['TenYearCHD'] , test_size=0.5, random_state=0)",
   "metadata": {
    "cell_id": "a14fb233c5654258a0158c8ed9a2ba1a",
    "tags": [],
    "deepnote_to_be_reexecuted": false,
    "source_hash": "804f9c4f",
    "execution_start": 1648670985183,
    "execution_millis": 18,
    "deepnote_cell_type": "code",
    "deepnote_cell_height": 81
   },
   "outputs": [],
   "execution_count": 6
  },
  {
   "cell_type": "markdown",
   "source": "## Introduction\n\nIn this module, we will talk about methods based on stratifying or segmenting the predictor space into different spaces based on simple splitting rules. As those splitting rules used to segment the input space can be summarized into a tree, these methods are called decision tree methods.  ",
   "metadata": {
    "cell_id": "fb9c667bf216420f93240a7907127c00",
    "tags": [],
    "deepnote_cell_type": "markdown",
    "deepnote_cell_height": 130.78125
   }
  },
  {
   "cell_type": "markdown",
   "source": "## Basics\n\nTree methods can be used for regression and classification problems. However, we will be only talking about classification problems. A classsification tree uses segmentation of the input variable space to classify an observation as the class with the most observations present in the segment. An example  of a tree for a classification problem can be seen on the following image. It consists on a series of splitting decisions that start at the top of the tree. The first splitting decision corresponds to splitting Thal. The text Thal:a indicates that the left-hand branch coming out of that node consists of observations with the first value of the Thal variable (normal), and the right-hand node consists of the remaining observations (fixed or reversible defects). The text ChestPain:bc two splits down the tree on the left indicates that the left-hand branch coming out of that node consists of observations with the second and third values of the ChestPain variable, where the possible values are typical angina, atypical angina, non-anginal pain, and asymptomatic. The nodes in which splits are made are called internal nodes and nodes that are at the bottom of the tree are called terminal nodes or leaves. The segments of the trees that connect nodes are called branches. \n\n<figure>\n<img src=\"/work/indu5012_case_16/fig/Class_Tree.PNG\" align=\"center\"/> \n<figcaption align = \"center\"><b>Fig. 8.1 - Classification tree for a classification problem </b>.<i>Taken from (James, G., Witten, D., Hastie, T., & Tibshirani, R. (2013))</i></figcaption>\n</figure>\n\n\nTerminal nodes are the final division of the input-variables' space with which the final classification is made. An example of how a classification tree divides the input space can be seen on the following image.\n\n<figure>\n<img src=\"/work/indu5012_case_16/fig/Class_Tree_Seg.PNG\" align=\"center\"/> \n<figcaption align = \"center\"><b>Fig. 8.2 - Input space segmentation by a classification tree when there are two input variables. </b>.<i>Taken from (James, G., Witten, D., Hastie, T., & Tibshirani, R. (2013))</i></figcaption>\n</figure>\n",
   "metadata": {
    "cell_id": "f9f97f6a992e4cd88d6c5b297ec70489",
    "tags": [],
    "deepnote_cell_type": "markdown",
    "deepnote_cell_height": 1598.4375
   }
  },
  {
   "cell_type": "markdown",
   "source": "## Classification Trees\n\n### Tree-growing\n\nFor a classification tree, we predict that each observation belongs to the most commonly occurring class of training observations in the region to which it belongs. In interpreting the results of a classification tree, we are often interested not only in the class prediction corresponding to a particular terminal node region, but also in the class proportions among the training observations that fall into that region.\n\nIn order to grow a tree, its partitions have to be determined. when constructing the tree, the goal is to find boxes $R_1,...,R_J$ that minimize the prediction error rate. However, as all of the possible partitions cannot be made in order to determine the best one, a top-down greedy approach is used to construct the tree. In each step of this **recursive binary splitting process**, the best possible split is made by obtaining the predictor $X_j$ for which segmenting the input space into $\\{X|X_j < s\\}$ and $\\{X|X_j > s\\}$ make the biggest reduction in the prediction error rate. However, it turns out that prediction error rate is not a sensitive enough metric in order to grow the tree properly and two other metrics are preferred for this purpose, the **Gini index** and the **entropy**. The Gini index and entropy are metrics that prioritize node purity, i.e. having terminal nodes with observations that belong mostly to only one class. Both of these metrics are defined as: <center> $\\text{Gini}=\\sum_{k=1}^{K}\\hat p_{mk}(1-\\hat p_{mk})$ </center> <center> $\\text{Entropy}=-\\sum_{k=1}^{K}\\hat p_{mk}\\log(\\hat p_{mk})$ </center> \n\nwhere $\\hat p_{mk}$ represents the proportion of training observations in the $m^{th}$ region that are from the $k^{th}$ class. Hence, if we define the two half-spaces in which the input space is going to be separated as $R_1=\\{X|X_j < s\\}$ and $R_2=\\{X|X_j > s\\}$, then the values for $j$ and $s$ are searched in order to reduce one of the following expressions: <center> $\\sum_{i=1}^{K}\\hat p_{R_1k}(1-\\hat p_{R_1k})+\\sum_{i=1}^{K}\\hat p_{R_2k}(1-\\hat p_{R_2k})$ </center> <center> $-\\sum_{i=1}^{K}\\hat p_{R_1k}\\log(\\hat p_{R_1k})-\\sum_{i=1}^{K}\\hat p_{R_2k}\\log(\\hat p_{R_2k})$ </center>\n\nThis process is repeated until a condition is met, such as there being no nodes with more than five observations in them. \n\n### Tree-pruning\n\nThe process described above may produce good predictions on the training set, but is likely to overfit the data, leading to poor test set performance. This is because the resulting tree might be too complex. A smaller tree with fewer splits (i.e., fewer regions $R_1,...,R_J$ ) might lead to lower variance and better interpretation at the cost of a little bias. One possible alternative to the process described above is to build the tree only so long as the decrease in the Gini index or entropy due to each split exceeds some (high) threshold. This strategy will result in smaller trees, but is too short-sighted, since a split that may seem worthless early on in the tree might be followed by a very good split that leads to a large improvement later on.\n\nTherefore, a better strategy is to grow a very big tree $T_0$ and then prune it to get a smaller subtree. In order to do this, a regularization parameter $\\alpha$ is used to generate subtrees that are smaller. For each value of $\\alpha$, there is a subtree $T \\subseteq T_0$, such that one of the following expressions is minimal: <center> $\\sum_{m=1}^{|T|}\\sum_{i=1}^{K}\\hat p_{mk}(1-\\hat p_{mk})+\\alpha|T|$ </center> <center> $-\\sum_{m=1}^{|T|}\\sum_{i=1}^{K}\\hat p_{mk}\\log(\\hat p_{mk})+\\alpha|T|$ </center>\n\nwhere $|T|$ is the number of terminal nodes that the tree has. As different values of $\\alpha$ yield different subtrees, using k-fold cross-validation, one can test different values of $\\alpha$ to determine the one that results on the best classification tree.",
   "metadata": {
    "cell_id": "1675770ba7ed4e7abe576abf75516d85",
    "tags": [],
    "deepnote_cell_type": "markdown",
    "deepnote_cell_height": 879.109375
   }
  },
  {
   "cell_type": "markdown",
   "source": "### Classification tree example",
   "metadata": {
    "cell_id": "f2e680dc57f8495cb6e920b93f50fafa",
    "tags": [],
    "deepnote_cell_type": "markdown",
    "deepnote_cell_height": 62
   }
  },
  {
   "cell_type": "code",
   "source": "#Importing data\nimport pandas as pd\n\ndf_heart_disease = pd.read_csv(r'./data/framingham.csv')\n\n#Importing libraries\nimport numpy as np\nfrom sklearn.tree import DecisionTreeClassifier\n\n#Droping education column\ndf_heart_disease.drop(columns='education',inplace=True)\n\n#Droping the observations that have at least one missing value\ndf_heart_disease.dropna(axis=0,inplace=True)\n\n#Definition of input variables\nX = df_heart_disease.drop(columns='TenYearCHD')\n#Definition of output variable\ny = df_heart_disease['TenYearCHD']\n\n#Defining model\ndtc = DecisionTreeClassifier()\n\n#Fitting model\ndtc_res = dtc.fit(X_train, Y_train)",
   "metadata": {
    "cell_id": "086e820c5ee144039ded3c5f31e58b9e",
    "tags": [],
    "deepnote_to_be_reexecuted": false,
    "source_hash": "b6c15295",
    "execution_start": 1648670985208,
    "execution_millis": 60,
    "deepnote_cell_type": "code",
    "deepnote_cell_height": 513
   },
   "outputs": [],
   "execution_count": 7
  },
  {
   "cell_type": "markdown",
   "source": "#### Obtaining metrics for decision trees",
   "metadata": {
    "cell_id": "e3bbd6fe7bd842969f44f509d82ddf1d",
    "tags": [],
    "deepnote_cell_type": "markdown",
    "deepnote_cell_height": 54
   }
  },
  {
   "cell_type": "code",
   "source": "from sklearn.model_selection import cross_val_score\n\nscores = cross_val_score(dtc, X, y, cv=10, scoring='accuracy')\nprint(scores)\nprint(\"Accuracy: \",scores.mean())\n\nscores = cross_val_score(dtc, X, y, cv=10, scoring='recall')\nprint(\"Recall: \",scores.mean())\n\nscores = cross_val_score(dtc, X, y, cv=10, scoring='roc_auc')\nprint(\"Roc_auc: \",scores.mean())",
   "metadata": {
    "cell_id": "b912ba7ad1644b20a22ed4aa20833ef7",
    "tags": [],
    "deepnote_to_be_reexecuted": false,
    "source_hash": "7e81ec83",
    "execution_start": 1648670985276,
    "execution_millis": 1542,
    "deepnote_cell_type": "code",
    "deepnote_cell_height": 373
   },
   "outputs": [
    {
     "name": "stdout",
     "text": "[0.752      0.80266667 0.75733333 0.768      0.75733333 0.74133333\n 0.78666667 0.74666667 0.73333333 0.76470588]\nAccuracy:  0.7610039215686275\nRecall:  0.26938898971566844\nRoc_auc:  0.552265059410624\n",
     "output_type": "stream"
    }
   ],
   "execution_count": 8
  },
  {
   "cell_type": "markdown",
   "source": "### Decision Trees Grid Search",
   "metadata": {
    "cell_id": "825ab60191a24439a22e5e68b0553bb5",
    "tags": [],
    "deepnote_cell_type": "markdown",
    "deepnote_cell_height": 62
   }
  },
  {
   "cell_type": "code",
   "source": "#Importing libraries\nfrom sklearn.model_selection import GridSearchCV\n\nparam_grid = {'criterion':['gini','entropy'],'max_depth': np.arange(3, 15), 'ccp_alpha':np.linspace(0,10,50)}\n\ndtc = DecisionTreeClassifier()\n\ngrid = GridSearchCV(dtc, param_grid, scoring='roc_auc', cv=10)\n\ngrid.fit(X, y)\n\n# Best estimators\nprint(\"Best DTC parameters: \",grid.best_estimator_)\nprint('Best DTC ROC_AUC score: %.3f' % np.abs(grid.best_score_))",
   "metadata": {
    "cell_id": "b9b8acf650884d57a0b1f8846e04c81b",
    "tags": [],
    "deepnote_to_be_reexecuted": false,
    "source_hash": "d166ce32",
    "execution_start": 1648670986825,
    "execution_millis": 525227,
    "deepnote_cell_type": "code",
    "deepnote_cell_height": 366.375
   },
   "outputs": [
    {
     "name": "stdout",
     "text": "Best DTC parameters:  DecisionTreeClassifier(criterion='entropy', max_depth=5)\nBest DTC ROC_AUC score: 0.703\n",
     "output_type": "stream"
    }
   ],
   "execution_count": 9
  },
  {
   "cell_type": "markdown",
   "source": "### Decision tree model Testing",
   "metadata": {
    "cell_id": "8a135c3f4fbc4baaad1afb0bf1cd5f21",
    "tags": [],
    "deepnote_cell_type": "markdown",
    "deepnote_cell_height": 62
   }
  },
  {
   "cell_type": "code",
   "source": "dtc = DecisionTreeClassifier(criterion='entropy', max_depth=5)\ndtc_res = dtc.fit(X_train, Y_train)\n\nRocCurveDisplay.from_estimator(dtc_res, X_test, Y_test)\nplt.plot([0, 1], [0, 1], color=\"red\", linestyle=\"--\")",
   "metadata": {
    "cell_id": "2a78d3da3acc4e9093da8edf8286642b",
    "tags": [],
    "deepnote_to_be_reexecuted": false,
    "source_hash": "4c3ef686",
    "execution_start": 1648671512049,
    "execution_millis": 769,
    "deepnote_cell_type": "code",
    "deepnote_cell_height": 485.1875,
    "deepnote_output_heights": [
     21.1875,
     264
    ]
   },
   "outputs": [
    {
     "output_type": "execute_result",
     "execution_count": 10,
     "data": {
      "text/plain": "[<matplotlib.lines.Line2D at 0x7f2470ecdd90>]"
     },
     "metadata": {}
    },
    {
     "data": {
      "text/plain": "<Figure size 432x288 with 1 Axes>",
      "image/png": "[encoded data removed]"
     },
     "metadata": {
      "needs_background": "light",
      "image/png": {
       "width": 386,
       "height": 262
      }
     },
     "output_type": "display_data"
    }
   ],
   "execution_count": 10
  },
  {
   "cell_type": "markdown",
   "source": "### Decision tree model Comparision",
   "metadata": {
    "cell_id": "bfa1045c2bc241e99e40f76f002059fa",
    "tags": [],
    "deepnote_cell_type": "markdown",
    "deepnote_cell_height": 62
   }
  },
  {
   "cell_type": "code",
   "source": "qda = QuadraticDiscriminantAnalysis(reg_param = 0.22)\nqda_res = qda.fit(X_train, Y_train)\n\nlda = LinearDiscriminantAnalysis(solver='lsqr')\nlda.fit(X_train,Y_train)",
   "metadata": {
    "cell_id": "c80a168d4b0e4f9ea95f79a8d7fe9012",
    "tags": [],
    "deepnote_to_be_reexecuted": false,
    "source_hash": "4f3e04ef",
    "execution_start": 1648671663133,
    "execution_millis": 21,
    "deepnote_cell_type": "code",
    "deepnote_cell_height": 138
   },
   "outputs": [
    {
     "output_type": "execute_result",
     "execution_count": 12,
     "data": {
      "text/plain": "LinearDiscriminantAnalysis(solver='lsqr')"
     },
     "metadata": {}
    }
   ],
   "execution_count": 12
  },
  {
   "cell_type": "code",
   "source": "fig, ax = plt.subplots()\nRocCurveDisplay.from_estimator(dtc_res, X_test, Y_test, ax = ax)\nRocCurveDisplay.from_estimator(qda, X_test, Y_test, ax=ax)\nRocCurveDisplay.from_estimator(lda, X_test, Y_test,ax=ax)\nplt.plot([0, 1], [0, 1], color=\"red\", linestyle=\"--\")",
   "metadata": {
    "cell_id": "744711ef65194b94a907ade5cb3f9d7c",
    "tags": [],
    "deepnote_to_be_reexecuted": false,
    "source_hash": "f53d8c2d",
    "execution_start": 1648671665235,
    "execution_millis": 1053,
    "deepnote_cell_type": "code",
    "deepnote_cell_height": 138
   },
   "outputs": [
    {
     "output_type": "execute_result",
     "execution_count": 13,
     "data": {
      "text/plain": "[<matplotlib.lines.Line2D at 0x7f24703eee50>]"
     },
     "metadata": {}
    },
    {
     "data": {
      "text/plain": "<Figure size 432x288 with 1 Axes>",
      "image/png": "[encoded data removed]"
     },
     "metadata": {
      "needs_background": "light",
      "image/png": {
       "width": 386,
       "height": 262
      }
     },
     "output_type": "display_data"
    }
   ],
   "execution_count": 13
  },
  {
   "cell_type": "markdown",
   "source": "<a style='text-decoration:none;line-height:16px;display:flex;color:#5B5B62;padding:10px;justify-content:end;' href='https://deepnote.com?utm_source=created-in-deepnote-cell&projectId=96262903-a28f-4719-a328-dc59e3cfa77f' target=\"_blank\">\n<img alt='Created in deepnote.com' style='display:inline;max-height:16px;margin:0px;margin-right:7.5px;' src='data:image/svg+xml;base64,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' > </img>\nCreated in <span style='font-weight:600;margin-left:4px;'>Deepnote</span></a>",
   "metadata": {
    "tags": [],
    "created_in_deepnote_cell": true,
    "deepnote_cell_type": "markdown"
   }
  }
 ],
 "nbformat": 4,
 "nbformat_minor": 2,
 "metadata": {
  "orig_nbformat": 2,
  "deepnote": {
   "is_reactive": false
  },
  "deepnote_notebook_id": "304a8938-c8cb-485b-86f4-1fa2dac57b64",
  "deepnote_execution_queue": []
 }
}